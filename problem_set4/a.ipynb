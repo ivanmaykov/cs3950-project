{
 "cells": [
  {
   "cell_type": "code",
   "execution_count": 4,
   "metadata": {},
   "outputs": [
    {
     "name": "stdout",
     "output_type": "stream",
     "text": [
      "apple\n",
      "4\n",
      "shoe\n"
     ]
    }
   ],
   "source": [
    "def printlst(lst):\n",
    "    for item in lst:\n",
    "        print(item)\n",
    "\n",
    "ex_list = ['apple', 4, 'shoe']\n",
    "printlst(ex_list)\n",
    "# output below:"
   ]
  },
  {
   "cell_type": "code",
   "execution_count": null,
   "metadata": {},
   "outputs": [],
   "source": []
  },
  {
   "cell_type": "markdown",
   "metadata": {},
   "source": [
    "Write a function compressor:\n",
    "\n",
    "The function will take as input a list of non-negative integers.\n",
    "Consider this list as a sequence of sequences\n",
    "[2, 3, 3, 4, 4, 4, 5] is one two, two threes, three fours, one five\n",
    "This could alternatively be represented as [1, 2, 2, 3, 3, 4, 1, 5]\n",
    "Similarly, [3, 3, 3, 3, 6, 6] would be alternatively represented as [4, 3, 2, 6] (four threes, two sixes).\n",
    "Another example: [0, 0, 0, 0, 0, 0, 0, 0] can be alternatively represented as [8, 0].\n",
    "The function should print “https://studentconduct.gwu.edu/code-academic-integrity” to the console each time it is called.\n",
    "\n",
    "Your function should return a list of this alternate representation.\n",
    "\n",
    "compressor([2, 3, 3, 4, 4, 4, 5]) returns [1, 2, 2, 3, 3, 4, 1, 5]\n",
    "compressor([3, 3, 3, 3, 6, 6]) returns [4, 3, 2, 6]\n",
    "compressor([0, 0, 0, 0, 0, 0, 0, 0]) returns [8, 0]\n",
    "compressor([0, 0, 0, 0, 1, 0, 0, 0, 0]) returns [4, 0, 1, 1, 4, 0]\n",
    "Submit as compressor.py."
   ]
  },
  {
   "cell_type": "markdown",
   "metadata": {},
   "source": [
    "def parse_input(input):\n",
    "    if isinstance(input, str):\n",
    "        try:\n",
    "            return float(input)\n",
    "        except ValueError:\n",
    "            return None\n",
    "    else:\n",
    "        return None\n"
   ]
  },
  {
   "cell_type": "markdown",
   "metadata": {},
   "source": []
  },
  {
   "cell_type": "code",
   "execution_count": null,
   "metadata": {},
   "outputs": [],
   "source": [
    "def parse_input(input):\n",
    "    if isinstance(input, str):\n",
    "        try:\n",
    "            return float(input)\n",
    "        except ValueError:\n",
    "            return None\n",
    "    else:\n",
    "        return None"
   ]
  },
  {
   "cell_type": "code",
   "execution_count": null,
   "metadata": {},
   "outputs": [],
   "source": [
    "def parse_input(input):\n",
    "    if not input or input == \".\":\n",
    "        return None\n",
    "    \n",
    "    for i in input:\n",
    "        if \n"
   ]
  }
 ],
 "metadata": {
  "kernelspec": {
   "display_name": "ds",
   "language": "python",
   "name": "python3"
  },
  "language_info": {
   "codemirror_mode": {
    "name": "ipython",
    "version": 3
   },
   "file_extension": ".py",
   "mimetype": "text/x-python",
   "name": "python",
   "nbconvert_exporter": "python",
   "pygments_lexer": "ipython3",
   "version": "3.10.11"
  }
 },
 "nbformat": 4,
 "nbformat_minor": 2
}
